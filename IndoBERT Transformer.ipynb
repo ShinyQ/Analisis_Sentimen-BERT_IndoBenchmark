{
 "cells": [
  {
   "cell_type": "markdown",
   "id": "6fa6dd63",
   "metadata": {},
   "source": [
    "# **Introduction To Transformer**\n",
    "\n",
    "Kurniadi Ahmad Wijaya - 1301194024"
   ]
  },
  {
   "cell_type": "markdown",
   "id": "673ffeab",
   "metadata": {},
   "source": [
    "### **Importing Dataset**"
   ]
  },
  {
   "cell_type": "code",
   "execution_count": 1,
   "id": "1af0f817",
   "metadata": {},
   "outputs": [],
   "source": [
    "# !pip install transformers\n",
    "# !pip install datasets\n",
    "# !pip install indobenchmark-toolkit"
   ]
  },
  {
   "cell_type": "code",
   "execution_count": 106,
   "id": "864a3b99",
   "metadata": {},
   "outputs": [],
   "source": [
    "from sklearn.model_selection import train_test_split\n",
    "from transformers import Trainer\n",
    "from datasets import load_metric\n",
    "\n",
    "import pandas as pd\n",
    "import numpy as np"
   ]
  },
  {
   "cell_type": "code",
   "execution_count": 107,
   "id": "d26c03a5",
   "metadata": {},
   "outputs": [
    {
     "data": {
      "text/html": [
       "<div>\n",
       "<style scoped>\n",
       "    .dataframe tbody tr th:only-of-type {\n",
       "        vertical-align: middle;\n",
       "    }\n",
       "\n",
       "    .dataframe tbody tr th {\n",
       "        vertical-align: top;\n",
       "    }\n",
       "\n",
       "    .dataframe thead th {\n",
       "        text-align: right;\n",
       "    }\n",
       "</style>\n",
       "<table border=\"1\" class=\"dataframe\">\n",
       "  <thead>\n",
       "    <tr style=\"text-align: right;\">\n",
       "      <th></th>\n",
       "      <th>raw</th>\n",
       "      <th>processed</th>\n",
       "      <th>label</th>\n",
       "    </tr>\n",
       "  </thead>\n",
       "  <tbody>\n",
       "    <tr>\n",
       "      <th>7839</th>\n",
       "      <td>@PIJATMAKASSAR05 Kak Cariin aku Top dong yg ma...</td>\n",
       "      <td>kak carikan saya top dong yang mau boking aku ...</td>\n",
       "      <td>0</td>\n",
       "    </tr>\n",
       "    <tr>\n",
       "      <th>8055</th>\n",
       "      <td>@jokowi Yang penting PPKM sampai tahun 2045 pak</td>\n",
       "      <td>yang penting ppkm sampai tahun pak</td>\n",
       "      <td>0</td>\n",
       "    </tr>\n",
       "    <tr>\n",
       "      <th>971</th>\n",
       "      <td>Day 3 mas satu2nya hari ini akad nikah tp g bi...</td>\n",
       "      <td>hari mas satu nya hari ini akad nikah tapi bis...</td>\n",
       "      <td>0</td>\n",
       "    </tr>\n",
       "    <tr>\n",
       "      <th>4089</th>\n",
       "      <td>@jokowi Pak hentikan PPKM banyak yg kena imbas...</td>\n",
       "      <td>pak hentikan ppkm banyak yang kena imbasnya sa...</td>\n",
       "      <td>0</td>\n",
       "    </tr>\n",
       "    <tr>\n",
       "      <th>7271</th>\n",
       "      <td>@Mayangprsprnt Padahal kalo memang niat, ppkm ...</td>\n",
       "      <td>padahal jika memang niat ppkm bukan halangan u...</td>\n",
       "      <td>1</td>\n",
       "    </tr>\n",
       "  </tbody>\n",
       "</table>\n",
       "</div>"
      ],
      "text/plain": [
       "                                                    raw  \\\n",
       "7839  @PIJATMAKASSAR05 Kak Cariin aku Top dong yg ma...   \n",
       "8055    @jokowi Yang penting PPKM sampai tahun 2045 pak   \n",
       "971   Day 3 mas satu2nya hari ini akad nikah tp g bi...   \n",
       "4089  @jokowi Pak hentikan PPKM banyak yg kena imbas...   \n",
       "7271  @Mayangprsprnt Padahal kalo memang niat, ppkm ...   \n",
       "\n",
       "                                              processed  label  \n",
       "7839  kak carikan saya top dong yang mau boking aku ...      0  \n",
       "8055                 yang penting ppkm sampai tahun pak      0  \n",
       "971   hari mas satu nya hari ini akad nikah tapi bis...      0  \n",
       "4089  pak hentikan ppkm banyak yang kena imbasnya sa...      0  \n",
       "7271  padahal jika memang niat ppkm bukan halangan u...      1  "
      ]
     },
     "execution_count": 107,
     "metadata": {},
     "output_type": "execute_result"
    }
   ],
   "source": [
    "df = pd.read_csv(\"https://raw.githubusercontent.com/ShinyQ/Final-IFest-2021_Analisis-Sentimen-Kebijkakan-PPKM-Pemerintah/main/Data/Unbalance/NonStopword_Stem_Min2_Clean/clean_train.csv\")\n",
    "df.sample(5)"
   ]
  },
  {
   "cell_type": "code",
   "execution_count": 150,
   "id": "09c62cc4",
   "metadata": {},
   "outputs": [
    {
     "data": {
      "text/html": [
       "<div>\n",
       "<style scoped>\n",
       "    .dataframe tbody tr th:only-of-type {\n",
       "        vertical-align: middle;\n",
       "    }\n",
       "\n",
       "    .dataframe tbody tr th {\n",
       "        vertical-align: top;\n",
       "    }\n",
       "\n",
       "    .dataframe thead th {\n",
       "        text-align: right;\n",
       "    }\n",
       "</style>\n",
       "<table border=\"1\" class=\"dataframe\">\n",
       "  <thead>\n",
       "    <tr style=\"text-align: right;\">\n",
       "      <th></th>\n",
       "      <th>raw</th>\n",
       "      <th>text</th>\n",
       "      <th>label</th>\n",
       "    </tr>\n",
       "  </thead>\n",
       "  <tbody>\n",
       "    <tr>\n",
       "      <th>95</th>\n",
       "      <td>@schfess @movntaine eh tp kan ppkm ny 3-20, pd...</td>\n",
       "      <td>eh tapi kan ppkm nya padahal masuk sama nya hm...</td>\n",
       "      <td>?</td>\n",
       "    </tr>\n",
       "    <tr>\n",
       "      <th>15</th>\n",
       "      <td>@NOTASLIMBOY Masih dong… kan proyek strategis ...</td>\n",
       "      <td>masih dong kan proyek strategis nasional di pp...</td>\n",
       "      <td>?</td>\n",
       "    </tr>\n",
       "    <tr>\n",
       "      <th>30</th>\n",
       "      <td>Terbang sekarang pakai PCR, ini baik yang masu...</td>\n",
       "      <td>terbang sekarang pakai pcr ini baik yang masuk...</td>\n",
       "      <td>?</td>\n",
       "    </tr>\n",
       "    <tr>\n",
       "      <th>158</th>\n",
       "      <td>Meningkatnya angka covid-19 membuat kebijakan ...</td>\n",
       "      <td>meningkatnya angka covid membuat kebijakan ppk...</td>\n",
       "      <td>?</td>\n",
       "    </tr>\n",
       "    <tr>\n",
       "      <th>128</th>\n",
       "      <td>Intinya, patuhi PPKM dgn serius sebaga upaya m...</td>\n",
       "      <td>intinya patuhi ppkm dengan serius sebaga upaya...</td>\n",
       "      <td>?</td>\n",
       "    </tr>\n",
       "  </tbody>\n",
       "</table>\n",
       "</div>"
      ],
      "text/plain": [
       "                                                   raw  \\\n",
       "95   @schfess @movntaine eh tp kan ppkm ny 3-20, pd...   \n",
       "15   @NOTASLIMBOY Masih dong… kan proyek strategis ...   \n",
       "30   Terbang sekarang pakai PCR, ini baik yang masu...   \n",
       "158  Meningkatnya angka covid-19 membuat kebijakan ...   \n",
       "128  Intinya, patuhi PPKM dgn serius sebaga upaya m...   \n",
       "\n",
       "                                                  text label  \n",
       "95   eh tapi kan ppkm nya padahal masuk sama nya hm...     ?  \n",
       "15   masih dong kan proyek strategis nasional di pp...     ?  \n",
       "30   terbang sekarang pakai pcr ini baik yang masuk...     ?  \n",
       "158  meningkatnya angka covid membuat kebijakan ppk...     ?  \n",
       "128  intinya patuhi ppkm dengan serius sebaga upaya...     ?  "
      ]
     },
     "execution_count": 150,
     "metadata": {},
     "output_type": "execute_result"
    }
   ],
   "source": [
    "df_test = pd.read_csv(\"https://raw.githubusercontent.com/ShinyQ/Final-IFest-2021_Analisis-Sentimen-Kebijkakan-PPKM-Pemerintah/main/Data/Unbalance/NonStopword_Stem_Min2_Clean/clean_test.csv\")\n",
    "df_test.rename(columns={\"processed\": \"text\"}, inplace=True)\n",
    "df_test.sample(5)"
   ]
  },
  {
   "cell_type": "code",
   "execution_count": 109,
   "id": "5efa7b14",
   "metadata": {},
   "outputs": [
    {
     "data": {
      "text/plain": [
       "raw          0\n",
       "processed    0\n",
       "label        0\n",
       "dtype: int64"
      ]
     },
     "execution_count": 109,
     "metadata": {},
     "output_type": "execute_result"
    }
   ],
   "source": [
    "df = df.replace(r'^\\s*$', np.NaN, regex=True)\n",
    "df.isna().sum()"
   ]
  },
  {
   "cell_type": "markdown",
   "id": "a6fb874a",
   "metadata": {},
   "source": [
    "## **Split Train Dan Validation**"
   ]
  },
  {
   "cell_type": "code",
   "execution_count": 110,
   "id": "aaea77fc",
   "metadata": {},
   "outputs": [],
   "source": [
    "df_train, df_val = train_test_split(df, shuffle=True, test_size=0.2)"
   ]
  },
  {
   "cell_type": "markdown",
   "id": "75bb875c",
   "metadata": {},
   "source": [
    "## Preprocessing"
   ]
  },
  {
   "cell_type": "code",
   "execution_count": 111,
   "id": "677ea31f",
   "metadata": {},
   "outputs": [],
   "source": [
    "df_val.drop(\"raw\", axis=1, inplace=True)\n",
    "df_train.drop(\"raw\", axis=1, inplace=True)\n",
    "df_test.drop(\"raw\", axis=1, inplace=True)\n",
    "\n",
    "df_test[\"label\"] = df_test[\"label\"].map({\"?\" : 0})"
   ]
  },
  {
   "cell_type": "code",
   "execution_count": 112,
   "id": "fae74c8c",
   "metadata": {},
   "outputs": [],
   "source": [
    "df_train = df_train.rename(columns={\n",
    "    \"processed\" : \"text\",\n",
    "    \"labels\" : \"label\"\n",
    "})\n",
    "\n",
    "df_val = df_val.rename(columns={\n",
    "    \"processed\" : \"text\",\n",
    "    \"labels\" : \"label\"\n",
    "})\n",
    "\n",
    "df_test = df_test.rename(columns={\n",
    "    \"processed\" : \"text\",\n",
    "    \"labels\" : \"label\"\n",
    "})"
   ]
  },
  {
   "cell_type": "code",
   "execution_count": 113,
   "id": "b5910c47",
   "metadata": {},
   "outputs": [],
   "source": [
    "df_train.to_csv(\"train.csv\", index=False)\n",
    "df_val.to_csv(\"eval.csv\", index=False)\n",
    "df_test.to_csv(\"test.csv\", index=False)"
   ]
  },
  {
   "cell_type": "code",
   "execution_count": null,
   "id": "38979d26",
   "metadata": {},
   "outputs": [],
   "source": [
    "from datasets import load_dataset\n",
    "\n",
    "files = {\n",
    "    \"train\": \"train.csv\", \n",
    "    \"eval\": \"eval.csv\", \n",
    "    \"test\": \"test.csv\"\n",
    "}\n",
    "\n",
    "dataset = load_dataset('csv', data_files=files)"
   ]
  },
  {
   "cell_type": "markdown",
   "id": "81295f51",
   "metadata": {},
   "source": [
    "## **Using Pretrained Model**"
   ]
  },
  {
   "cell_type": "markdown",
   "id": "96ea9692",
   "metadata": {},
   "source": [
    "**Sumber :**\n",
    "\n",
    "Hungging Face Indo Benchmark : [Dasar Repository Indo Benchmark](https://huggingface.co/indobenchmark)."
   ]
  },
  {
   "cell_type": "markdown",
   "id": "179b449f",
   "metadata": {},
   "source": [
    "### **IndoBERT Transformer**"
   ]
  },
  {
   "cell_type": "code",
   "execution_count": 115,
   "id": "f0beb44e",
   "metadata": {},
   "outputs": [],
   "source": [
    "from transformers import AutoTokenizer, AutoModel\n",
    "\n",
    "tokenizer = AutoTokenizer.from_pretrained(\"indobenchmark/indobert-base-p2\")"
   ]
  },
  {
   "cell_type": "code",
   "execution_count": 116,
   "id": "d89fefc4",
   "metadata": {},
   "outputs": [
    {
     "data": {
      "application/vnd.jupyter.widget-view+json": {
       "model_id": "72c42f4bf43048f088739273889071d9",
       "version_major": 2,
       "version_minor": 0
      },
      "text/plain": [
       "HBox(children=(FloatProgress(value=0.0, max=8.0), HTML(value='')))"
      ]
     },
     "metadata": {},
     "output_type": "display_data"
    },
    {
     "name": "stdout",
     "output_type": "stream",
     "text": [
      "\n"
     ]
    },
    {
     "data": {
      "application/vnd.jupyter.widget-view+json": {
       "model_id": "4db7a6ab82c541269faf289000b17a63",
       "version_major": 2,
       "version_minor": 0
      },
      "text/plain": [
       "HBox(children=(FloatProgress(value=0.0, max=2.0), HTML(value='')))"
      ]
     },
     "metadata": {},
     "output_type": "display_data"
    },
    {
     "name": "stdout",
     "output_type": "stream",
     "text": [
      "\n"
     ]
    },
    {
     "data": {
      "application/vnd.jupyter.widget-view+json": {
       "model_id": "e1536d9c85d6459f9a6b508aeec817cd",
       "version_major": 2,
       "version_minor": 0
      },
      "text/plain": [
       "HBox(children=(FloatProgress(value=0.0, max=1.0), HTML(value='')))"
      ]
     },
     "metadata": {},
     "output_type": "display_data"
    },
    {
     "name": "stdout",
     "output_type": "stream",
     "text": [
      "\n"
     ]
    }
   ],
   "source": [
    "def tokenize_function(text):\n",
    "    return tokenizer(text[\"text\"], padding='max_length', max_length=256)\n",
    "\n",
    "tokenized_datasets = dataset.map(tokenize_function, batched=True)"
   ]
  },
  {
   "cell_type": "code",
   "execution_count": 117,
   "id": "8953977c",
   "metadata": {},
   "outputs": [
    {
     "data": {
      "text/plain": [
       "DatasetDict({\n",
       "    train: Dataset({\n",
       "        features: ['attention_mask', 'input_ids', 'label', 'text', 'token_type_ids'],\n",
       "        num_rows: 7848\n",
       "    })\n",
       "    eval: Dataset({\n",
       "        features: ['attention_mask', 'input_ids', 'label', 'text', 'token_type_ids'],\n",
       "        num_rows: 1962\n",
       "    })\n",
       "    test: Dataset({\n",
       "        features: ['attention_mask', 'input_ids', 'label', 'text', 'token_type_ids'],\n",
       "        num_rows: 200\n",
       "    })\n",
       "})"
      ]
     },
     "execution_count": 117,
     "metadata": {},
     "output_type": "execute_result"
    }
   ],
   "source": [
    "tokenized_datasets"
   ]
  },
  {
   "cell_type": "code",
   "execution_count": 118,
   "id": "f11f0df0",
   "metadata": {},
   "outputs": [],
   "source": [
    "train_dataset = tokenized_datasets[\"train\"]\n",
    "eval_dataset = tokenized_datasets[\"eval\"]"
   ]
  },
  {
   "cell_type": "markdown",
   "id": "1800d8d0",
   "metadata": {},
   "source": [
    "```\n",
    "training_args = TrainingArguments(\n",
    "     output_dir=\"test_trainer\",\n",
    "     do_train=True,\n",
    "     evaluation_strategy=\"steps\",\n",
    "     learning_rate=1e-8,\n",
    "     num_train_epochs=3,\n",
    "     warmup_steps=100,\n",
    "     save_strategy=\"epoch\",\n",
    "     save_steps=500,\n",
    ")\n",
    "```"
   ]
  },
  {
   "cell_type": "code",
   "execution_count": null,
   "id": "f79589f6",
   "metadata": {},
   "outputs": [],
   "source": [
    "from transformers import AutoModelForSequenceClassification\n",
    "\n",
    "model = AutoModelForSequenceClassification.from_pretrained(\"indobenchmark/indobert-base-p2\", num_labels=3)"
   ]
  },
  {
   "cell_type": "code",
   "execution_count": 120,
   "id": "4fea6057",
   "metadata": {},
   "outputs": [],
   "source": [
    "from transformers import TrainingArguments\n",
    "\n",
    "training_args = TrainingArguments(\"test_trainer\")"
   ]
  },
  {
   "cell_type": "code",
   "execution_count": 121,
   "id": "4f456499",
   "metadata": {},
   "outputs": [
    {
     "data": {
      "text/html": [
       "\n",
       "    <div>\n",
       "        <style>\n",
       "            /* Turns off some styling */\n",
       "            progress {\n",
       "                /* gets rid of default border in Firefox and Opera. */\n",
       "                border: none;\n",
       "                /* Needs to be in here for Safari polyfill so background images work as expected. */\n",
       "                background-size: auto;\n",
       "            }\n",
       "        </style>\n",
       "      \n",
       "      <progress value='2943' max='2943' style='width:300px; height:20px; vertical-align: middle;'></progress>\n",
       "      [2943/2943 11:09, Epoch 3/3]\n",
       "    </div>\n",
       "    <table border=\"1\" class=\"dataframe\">\n",
       "  <thead>\n",
       "    <tr style=\"text-align: left;\">\n",
       "      <th>Step</th>\n",
       "      <th>Training Loss</th>\n",
       "    </tr>\n",
       "  </thead>\n",
       "  <tbody>\n",
       "    <tr>\n",
       "      <td>500</td>\n",
       "      <td>0.647900</td>\n",
       "    </tr>\n",
       "    <tr>\n",
       "      <td>1000</td>\n",
       "      <td>0.554100</td>\n",
       "    </tr>\n",
       "    <tr>\n",
       "      <td>1500</td>\n",
       "      <td>0.386900</td>\n",
       "    </tr>\n",
       "    <tr>\n",
       "      <td>2000</td>\n",
       "      <td>0.363500</td>\n",
       "    </tr>\n",
       "    <tr>\n",
       "      <td>2500</td>\n",
       "      <td>0.192700</td>\n",
       "    </tr>\n",
       "  </tbody>\n",
       "</table><p>"
      ],
      "text/plain": [
       "<IPython.core.display.HTML object>"
      ]
     },
     "metadata": {},
     "output_type": "display_data"
    },
    {
     "data": {
      "text/html": [
       "\n",
       "    <div>\n",
       "        <style>\n",
       "            /* Turns off some styling */\n",
       "            progress {\n",
       "                /* gets rid of default border in Firefox and Opera. */\n",
       "                border: none;\n",
       "                /* Needs to be in here for Safari polyfill so background images work as expected. */\n",
       "                background-size: auto;\n",
       "            }\n",
       "        </style>\n",
       "      \n",
       "      <progress value='246' max='246' style='width:300px; height:20px; vertical-align: middle;'></progress>\n",
       "      [246/246 00:06]\n",
       "    </div>\n",
       "    "
      ],
      "text/plain": [
       "<IPython.core.display.HTML object>"
      ]
     },
     "metadata": {},
     "output_type": "display_data"
    }
   ],
   "source": [
    "metric = load_metric(\"accuracy\")\n",
    "\n",
    "def compute_metrics(eval_pred):\n",
    "    logits, labels = eval_pred\n",
    "    predictions = np.argmax(logits, axis=-1)\n",
    "    \n",
    "    return metric.compute(predictions=predictions, references=labels)\n",
    "\n",
    "trainer = Trainer(\n",
    "    model=model,\n",
    "    args=training_args,\n",
    "    train_dataset=train_dataset,\n",
    "    eval_dataset=eval_dataset,\n",
    "    compute_metrics=compute_metrics,\n",
    ")\n",
    "\n",
    "train_history = trainer.train()\n",
    "train_evaluate = trainer.evaluate()"
   ]
  },
  {
   "cell_type": "code",
   "execution_count": 122,
   "id": "62b9665f",
   "metadata": {},
   "outputs": [
    {
     "data": {
      "text/plain": [
       "{'eval_loss': 0.9667941927909851,\n",
       " 'eval_accuracy': 0.7976554536187563,\n",
       " 'eval_runtime': 6.8601,\n",
       " 'eval_samples_per_second': 286.002,\n",
       " 'epoch': 3.0,\n",
       " 'eval_mem_cpu_alloc_delta': 12107776,\n",
       " 'eval_mem_gpu_alloc_delta': 0,\n",
       " 'eval_mem_cpu_peaked_delta': 0,\n",
       " 'eval_mem_gpu_peaked_delta': 95265792}"
      ]
     },
     "execution_count": 122,
     "metadata": {},
     "output_type": "execute_result"
    }
   ],
   "source": [
    "train_evaluate"
   ]
  },
  {
   "cell_type": "code",
   "execution_count": 123,
   "id": "2a513ad8",
   "metadata": {},
   "outputs": [],
   "source": [
    "trainer.save_model(\"IndoBERT\")"
   ]
  },
  {
   "cell_type": "markdown",
   "id": "e03b1b7e",
   "metadata": {},
   "source": [
    "### **IndoGPT Transformer**"
   ]
  },
  {
   "cell_type": "code",
   "execution_count": 124,
   "id": "efe4af4d",
   "metadata": {},
   "outputs": [],
   "source": [
    "from indobenchmark import IndoNLGTokenizer"
   ]
  },
  {
   "cell_type": "code",
   "execution_count": null,
   "id": "0bdb9df0",
   "metadata": {},
   "outputs": [],
   "source": [
    "tokenizer = IndoNLGTokenizer.from_pretrained(\"indobenchmark/indogpt\")\n",
    "tokenizer.pad_token = tokenizer.eos_token"
   ]
  },
  {
   "cell_type": "code",
   "execution_count": 126,
   "id": "01fedbc0",
   "metadata": {},
   "outputs": [
    {
     "data": {
      "application/vnd.jupyter.widget-view+json": {
       "model_id": "5cffa64880014f49a520b5a4c16be3da",
       "version_major": 2,
       "version_minor": 0
      },
      "text/plain": [
       "HBox(children=(FloatProgress(value=0.0, max=8.0), HTML(value='')))"
      ]
     },
     "metadata": {},
     "output_type": "display_data"
    },
    {
     "name": "stdout",
     "output_type": "stream",
     "text": [
      "\n"
     ]
    },
    {
     "data": {
      "application/vnd.jupyter.widget-view+json": {
       "model_id": "8677e31f229f47e28fa1c866fcc02fe8",
       "version_major": 2,
       "version_minor": 0
      },
      "text/plain": [
       "HBox(children=(FloatProgress(value=0.0, max=2.0), HTML(value='')))"
      ]
     },
     "metadata": {},
     "output_type": "display_data"
    },
    {
     "name": "stdout",
     "output_type": "stream",
     "text": [
      "\n"
     ]
    },
    {
     "data": {
      "application/vnd.jupyter.widget-view+json": {
       "model_id": "86b3b57226424a3b9247b0b5e0ea8f98",
       "version_major": 2,
       "version_minor": 0
      },
      "text/plain": [
       "HBox(children=(FloatProgress(value=0.0, max=1.0), HTML(value='')))"
      ]
     },
     "metadata": {},
     "output_type": "display_data"
    },
    {
     "name": "stdout",
     "output_type": "stream",
     "text": [
      "\n"
     ]
    }
   ],
   "source": [
    "def tokenize_function(examples):\n",
    "    return tokenizer(examples[\"text\"], padding='max_length', max_length=256)\n",
    "\n",
    "tokenized_datasets = dataset.map(tokenize_function, batched=True)"
   ]
  },
  {
   "cell_type": "code",
   "execution_count": 127,
   "id": "29d8c6dd",
   "metadata": {},
   "outputs": [],
   "source": [
    "train_dataset = tokenized_datasets[\"train\"]\n",
    "eval_dataset = tokenized_datasets[\"eval\"]"
   ]
  },
  {
   "cell_type": "code",
   "execution_count": null,
   "id": "888a9497",
   "metadata": {},
   "outputs": [],
   "source": [
    "from transformers import GPT2ForSequenceClassification\n",
    "\n",
    "model = GPT2ForSequenceClassification.from_pretrained(\"indobenchmark/indogpt\", num_labels=3)\n",
    "model.config.pad_token_id = model.config.eos_token_id"
   ]
  },
  {
   "cell_type": "code",
   "execution_count": 129,
   "id": "b79a4955",
   "metadata": {},
   "outputs": [],
   "source": [
    "training_args = TrainingArguments(\"test_trainer\")"
   ]
  },
  {
   "cell_type": "code",
   "execution_count": 130,
   "id": "e7b7d0a5",
   "metadata": {},
   "outputs": [
    {
     "data": {
      "text/html": [
       "\n",
       "    <div>\n",
       "        <style>\n",
       "            /* Turns off some styling */\n",
       "            progress {\n",
       "                /* gets rid of default border in Firefox and Opera. */\n",
       "                border: none;\n",
       "                /* Needs to be in here for Safari polyfill so background images work as expected. */\n",
       "                background-size: auto;\n",
       "            }\n",
       "        </style>\n",
       "      \n",
       "      <progress value='2943' max='2943' style='width:300px; height:20px; vertical-align: middle;'></progress>\n",
       "      [2943/2943 08:30, Epoch 3/3]\n",
       "    </div>\n",
       "    <table border=\"1\" class=\"dataframe\">\n",
       "  <thead>\n",
       "    <tr style=\"text-align: left;\">\n",
       "      <th>Step</th>\n",
       "      <th>Training Loss</th>\n",
       "    </tr>\n",
       "  </thead>\n",
       "  <tbody>\n",
       "    <tr>\n",
       "      <td>500</td>\n",
       "      <td>0.657600</td>\n",
       "    </tr>\n",
       "    <tr>\n",
       "      <td>1000</td>\n",
       "      <td>0.531000</td>\n",
       "    </tr>\n",
       "    <tr>\n",
       "      <td>1500</td>\n",
       "      <td>0.340200</td>\n",
       "    </tr>\n",
       "    <tr>\n",
       "      <td>2000</td>\n",
       "      <td>0.310500</td>\n",
       "    </tr>\n",
       "    <tr>\n",
       "      <td>2500</td>\n",
       "      <td>0.132300</td>\n",
       "    </tr>\n",
       "  </tbody>\n",
       "</table><p>"
      ],
      "text/plain": [
       "<IPython.core.display.HTML object>"
      ]
     },
     "metadata": {},
     "output_type": "display_data"
    },
    {
     "data": {
      "text/html": [
       "\n",
       "    <div>\n",
       "        <style>\n",
       "            /* Turns off some styling */\n",
       "            progress {\n",
       "                /* gets rid of default border in Firefox and Opera. */\n",
       "                border: none;\n",
       "                /* Needs to be in here for Safari polyfill so background images work as expected. */\n",
       "                background-size: auto;\n",
       "            }\n",
       "        </style>\n",
       "      \n",
       "      <progress value='246' max='246' style='width:300px; height:20px; vertical-align: middle;'></progress>\n",
       "      [246/246 00:08]\n",
       "    </div>\n",
       "    "
      ],
      "text/plain": [
       "<IPython.core.display.HTML object>"
      ]
     },
     "metadata": {},
     "output_type": "display_data"
    }
   ],
   "source": [
    "trainer = Trainer(\n",
    "    model=model,\n",
    "    args=training_args,\n",
    "    train_dataset=train_dataset,\n",
    "    eval_dataset=eval_dataset,\n",
    "    compute_metrics=compute_metrics,\n",
    ")\n",
    "\n",
    "train_history = trainer.train()\n",
    "train_evaluate = trainer.evaluate()"
   ]
  },
  {
   "cell_type": "code",
   "execution_count": 131,
   "id": "085fa003",
   "metadata": {},
   "outputs": [
    {
     "data": {
      "text/plain": [
       "{'eval_loss': 1.2066888809204102,\n",
       " 'eval_accuracy': 0.8037716615698267,\n",
       " 'eval_runtime': 8.3893,\n",
       " 'eval_samples_per_second': 233.87,\n",
       " 'epoch': 3.0,\n",
       " 'eval_mem_cpu_alloc_delta': 8101888,\n",
       " 'eval_mem_gpu_alloc_delta': 0,\n",
       " 'eval_mem_cpu_peaked_delta': 0,\n",
       " 'eval_mem_gpu_peaked_delta': 359492608}"
      ]
     },
     "execution_count": 131,
     "metadata": {},
     "output_type": "execute_result"
    }
   ],
   "source": [
    "train_evaluate"
   ]
  },
  {
   "cell_type": "code",
   "execution_count": 132,
   "id": "8713e406",
   "metadata": {},
   "outputs": [],
   "source": [
    "trainer.save_model(\"IndoGPT\")"
   ]
  },
  {
   "cell_type": "markdown",
   "id": "c576e667",
   "metadata": {},
   "source": [
    "### **IndoBERT Tweet Transformer**"
   ]
  },
  {
   "cell_type": "code",
   "execution_count": 133,
   "id": "24d76718",
   "metadata": {},
   "outputs": [],
   "source": [
    "from transformers import AutoTokenizer\n",
    "\n",
    "tokenizer = AutoTokenizer.from_pretrained(\"indolem/indobertweet-base-uncased\", use_fast=True)"
   ]
  },
  {
   "cell_type": "code",
   "execution_count": 134,
   "id": "2179b5f0",
   "metadata": {},
   "outputs": [
    {
     "data": {
      "application/vnd.jupyter.widget-view+json": {
       "model_id": "fa4e9e0f19824cc2a806606f1f12d7ab",
       "version_major": 2,
       "version_minor": 0
      },
      "text/plain": [
       "HBox(children=(FloatProgress(value=0.0, max=7848.0), HTML(value='')))"
      ]
     },
     "metadata": {},
     "output_type": "display_data"
    },
    {
     "name": "stdout",
     "output_type": "stream",
     "text": [
      "\n"
     ]
    },
    {
     "data": {
      "application/vnd.jupyter.widget-view+json": {
       "model_id": "2c6c093a72174b459a666bb5d63b5559",
       "version_major": 2,
       "version_minor": 0
      },
      "text/plain": [
       "HBox(children=(FloatProgress(value=0.0, max=1962.0), HTML(value='')))"
      ]
     },
     "metadata": {},
     "output_type": "display_data"
    },
    {
     "name": "stdout",
     "output_type": "stream",
     "text": [
      "\n"
     ]
    },
    {
     "data": {
      "application/vnd.jupyter.widget-view+json": {
       "model_id": "115dee35b8b84821a368bcb8cb2e212d",
       "version_major": 2,
       "version_minor": 0
      },
      "text/plain": [
       "HBox(children=(FloatProgress(value=0.0, max=200.0), HTML(value='')))"
      ]
     },
     "metadata": {},
     "output_type": "display_data"
    },
    {
     "name": "stdout",
     "output_type": "stream",
     "text": [
      "\n"
     ]
    }
   ],
   "source": [
    "def tokenize_function(examples):\n",
    "    return tokenizer(str(examples[\"text\"]), padding='max_length', max_length=256, truncation=True)\n",
    "\n",
    "tokenized_datasets = dataset.map(tokenize_function)"
   ]
  },
  {
   "cell_type": "code",
   "execution_count": 135,
   "id": "44a3e69c",
   "metadata": {},
   "outputs": [],
   "source": [
    "train_dataset = tokenized_datasets[\"train\"]\n",
    "eval_dataset = tokenized_datasets[\"eval\"]\n",
    "test_dataset = tokenized_datasets[\"test\"]"
   ]
  },
  {
   "cell_type": "code",
   "execution_count": null,
   "id": "3c809639",
   "metadata": {},
   "outputs": [],
   "source": [
    "from transformers import AutoModelForSequenceClassification\n",
    "\n",
    "model = AutoModelForSequenceClassification.from_pretrained(\"indolem/indobertweet-base-uncased\", num_labels=3)"
   ]
  },
  {
   "cell_type": "code",
   "execution_count": 137,
   "id": "8fe183cc",
   "metadata": {},
   "outputs": [
    {
     "data": {
      "text/html": [
       "\n",
       "    <div>\n",
       "        <style>\n",
       "            /* Turns off some styling */\n",
       "            progress {\n",
       "                /* gets rid of default border in Firefox and Opera. */\n",
       "                border: none;\n",
       "                /* Needs to be in here for Safari polyfill so background images work as expected. */\n",
       "                background-size: auto;\n",
       "            }\n",
       "        </style>\n",
       "      \n",
       "      <progress value='2943' max='2943' style='width:300px; height:20px; vertical-align: middle;'></progress>\n",
       "      [2943/2943 09:28, Epoch 3/3]\n",
       "    </div>\n",
       "    <table border=\"1\" class=\"dataframe\">\n",
       "  <thead>\n",
       "    <tr style=\"text-align: left;\">\n",
       "      <th>Step</th>\n",
       "      <th>Training Loss</th>\n",
       "    </tr>\n",
       "  </thead>\n",
       "  <tbody>\n",
       "    <tr>\n",
       "      <td>500</td>\n",
       "      <td>0.560800</td>\n",
       "    </tr>\n",
       "    <tr>\n",
       "      <td>1000</td>\n",
       "      <td>0.470200</td>\n",
       "    </tr>\n",
       "    <tr>\n",
       "      <td>1500</td>\n",
       "      <td>0.288300</td>\n",
       "    </tr>\n",
       "    <tr>\n",
       "      <td>2000</td>\n",
       "      <td>0.279400</td>\n",
       "    </tr>\n",
       "    <tr>\n",
       "      <td>2500</td>\n",
       "      <td>0.135100</td>\n",
       "    </tr>\n",
       "  </tbody>\n",
       "</table><p>"
      ],
      "text/plain": [
       "<IPython.core.display.HTML object>"
      ]
     },
     "metadata": {},
     "output_type": "display_data"
    },
    {
     "data": {
      "text/html": [
       "\n",
       "    <div>\n",
       "        <style>\n",
       "            /* Turns off some styling */\n",
       "            progress {\n",
       "                /* gets rid of default border in Firefox and Opera. */\n",
       "                border: none;\n",
       "                /* Needs to be in here for Safari polyfill so background images work as expected. */\n",
       "                background-size: auto;\n",
       "            }\n",
       "        </style>\n",
       "      \n",
       "      <progress value='421' max='246' style='width:300px; height:20px; vertical-align: middle;'></progress>\n",
       "      [246/246 08:04]\n",
       "    </div>\n",
       "    "
      ],
      "text/plain": [
       "<IPython.core.display.HTML object>"
      ]
     },
     "metadata": {},
     "output_type": "display_data"
    }
   ],
   "source": [
    "trainer = Trainer(\n",
    "    model=model,\n",
    "    args=training_args,\n",
    "    train_dataset=train_dataset,\n",
    "    eval_dataset=eval_dataset,\n",
    "    compute_metrics=compute_metrics,\n",
    ")\n",
    "\n",
    "training_history = trainer.train()\n",
    "evaluation_history = trainer.evaluate()"
   ]
  },
  {
   "cell_type": "code",
   "execution_count": 138,
   "id": "b59527ee",
   "metadata": {},
   "outputs": [
    {
     "data": {
      "text/plain": [
       "{'eval_loss': 0.8820319175720215,\n",
       " 'eval_accuracy': 0.8363914373088684,\n",
       " 'eval_runtime': 6.1631,\n",
       " 'eval_samples_per_second': 318.346,\n",
       " 'epoch': 3.0,\n",
       " 'eval_mem_cpu_alloc_delta': 12058624,\n",
       " 'eval_mem_gpu_alloc_delta': 0,\n",
       " 'eval_mem_cpu_peaked_delta': 0,\n",
       " 'eval_mem_gpu_peaked_delta': 94479360}"
      ]
     },
     "execution_count": 138,
     "metadata": {},
     "output_type": "execute_result"
    }
   ],
   "source": [
    "evaluation_history"
   ]
  },
  {
   "cell_type": "code",
   "execution_count": 139,
   "id": "909bcacf",
   "metadata": {},
   "outputs": [],
   "source": [
    "trainer.save_model(\"IndoBERTTweet\")"
   ]
  },
  {
   "cell_type": "markdown",
   "id": "200a1c05",
   "metadata": {},
   "source": [
    "## **Prediksi Label**"
   ]
  },
  {
   "cell_type": "code",
   "execution_count": 149,
   "id": "12af7a8a",
   "metadata": {},
   "outputs": [
    {
     "data": {
      "text/plain": [
       "array([0, 0, 0, 1, 1, 0, 0, 1, 1, 1, 1, 1, 0, 0, 0, 2, 1, 0, 0, 0, 0, 1,\n",
       "       2, 1, 1, 2, 0, 0, 0, 2, 1, 0, 1, 0, 0, 0, 0, 1, 0, 1, 1, 2, 1, 1,\n",
       "       0, 1, 1, 2, 1, 0, 1, 1, 1, 1, 1, 1, 1, 1, 1, 1, 0, 1, 0, 1, 1, 0,\n",
       "       0, 2, 0, 2, 0, 1, 0, 0, 2, 0, 1, 0, 1, 1, 0, 0, 1, 1, 1, 0, 1, 0,\n",
       "       2, 1, 0, 1, 0, 0, 1, 1, 0, 1, 0, 0, 1, 0, 2, 0, 1, 1, 2, 2, 0, 0,\n",
       "       0, 0, 1, 1, 1, 1, 0, 1, 1, 0, 0, 2, 2, 0, 0, 0, 1, 0, 2, 0, 0, 0,\n",
       "       1, 0, 0, 0, 1, 0, 1, 1, 1, 2, 0, 2, 1, 1, 0, 0, 2, 2, 0, 0, 0, 0,\n",
       "       0, 0, 1, 1, 2, 0, 2, 1, 1, 0, 1, 1, 0, 0, 1, 2, 2, 2, 1, 0, 1, 2,\n",
       "       0, 0, 1, 1, 1, 1, 0, 1, 2, 1, 1, 1, 2, 1, 1, 1, 1, 0, 0, 2, 0, 1,\n",
       "       2, 0])"
      ]
     },
     "execution_count": 149,
     "metadata": {},
     "output_type": "execute_result"
    }
   ],
   "source": [
    "prediction = trainer.predict(test_dataset)\n",
    "prediction = prediction.predictions.argmax(1)\n",
    "\n",
    "prediction"
   ]
  },
  {
   "cell_type": "code",
   "execution_count": 183,
   "id": "50218a9e",
   "metadata": {},
   "outputs": [
    {
     "data": {
      "text/html": [
       "<div>\n",
       "<style scoped>\n",
       "    .dataframe tbody tr th:only-of-type {\n",
       "        vertical-align: middle;\n",
       "    }\n",
       "\n",
       "    .dataframe tbody tr th {\n",
       "        vertical-align: top;\n",
       "    }\n",
       "\n",
       "    .dataframe thead th {\n",
       "        text-align: right;\n",
       "    }\n",
       "</style>\n",
       "<table border=\"1\" class=\"dataframe\">\n",
       "  <thead>\n",
       "    <tr style=\"text-align: right;\">\n",
       "      <th></th>\n",
       "      <th>text</th>\n",
       "      <th>prediction</th>\n",
       "    </tr>\n",
       "  </thead>\n",
       "  <tbody>\n",
       "    <tr>\n",
       "      <th>111</th>\n",
       "      <td>karena wisata belanja bukan ritual ibadah jika...</td>\n",
       "      <td>0</td>\n",
       "    </tr>\n",
       "    <tr>\n",
       "      <th>180</th>\n",
       "      <td>hari ppkm</td>\n",
       "      <td>1</td>\n",
       "    </tr>\n",
       "    <tr>\n",
       "      <th>193</th>\n",
       "      <td>ppkm membunuh ekonomi</td>\n",
       "      <td>0</td>\n",
       "    </tr>\n",
       "    <tr>\n",
       "      <th>15</th>\n",
       "      <td>masih dong kan proyek strategis nasional di pp...</td>\n",
       "      <td>2</td>\n",
       "    </tr>\n",
       "    <tr>\n",
       "      <th>137</th>\n",
       "      <td>setuju banget pak adhie yang kita tidak punya ...</td>\n",
       "      <td>0</td>\n",
       "    </tr>\n",
       "    <tr>\n",
       "      <th>158</th>\n",
       "      <td>meningkatnya angka covid membuat kebijakan ppk...</td>\n",
       "      <td>2</td>\n",
       "    </tr>\n",
       "    <tr>\n",
       "      <th>78</th>\n",
       "      <td>ppkm darurat mensyaratkan setiap penumpang pes...</td>\n",
       "      <td>1</td>\n",
       "    </tr>\n",
       "    <tr>\n",
       "      <th>31</th>\n",
       "      <td>memang siy ppkm darurat ini menghambat pariwis...</td>\n",
       "      <td>0</td>\n",
       "    </tr>\n",
       "    <tr>\n",
       "      <th>26</th>\n",
       "      <td>stabesok iya ppkm darurat ala jokowi padahal a...</td>\n",
       "      <td>0</td>\n",
       "    </tr>\n",
       "    <tr>\n",
       "      <th>29</th>\n",
       "      <td>masuk ppkm kota aku sedih banget tapi semoga d...</td>\n",
       "      <td>2</td>\n",
       "    </tr>\n",
       "    <tr>\n",
       "      <th>133</th>\n",
       "      <td>sudahlah pak urus saja ini ppkm jangan sampai ...</td>\n",
       "      <td>0</td>\n",
       "    </tr>\n",
       "    <tr>\n",
       "      <th>70</th>\n",
       "      <td>ppkm namanya lebih ketat begitu deh karena kas...</td>\n",
       "      <td>0</td>\n",
       "    </tr>\n",
       "    <tr>\n",
       "      <th>73</th>\n",
       "      <td>jika terjadi peningkatan jumlah kasus gelomban...</td>\n",
       "      <td>0</td>\n",
       "    </tr>\n",
       "    <tr>\n",
       "      <th>119</th>\n",
       "      <td>ppkm darurat menghambat aku mencari duit buat ...</td>\n",
       "      <td>0</td>\n",
       "    </tr>\n",
       "    <tr>\n",
       "      <th>174</th>\n",
       "      <td>admin kereta jadwal terakhir selama ppkm ini d...</td>\n",
       "      <td>1</td>\n",
       "    </tr>\n",
       "    <tr>\n",
       "      <th>136</th>\n",
       "      <td>hai apakah sudah ada persyaratan terbaru karen...</td>\n",
       "      <td>1</td>\n",
       "    </tr>\n",
       "    <tr>\n",
       "      <th>151</th>\n",
       "      <td>ppkm ini membunuhku</td>\n",
       "      <td>0</td>\n",
       "    </tr>\n",
       "    <tr>\n",
       "      <th>28</th>\n",
       "      <td>baru kali ini saya benci ppkm</td>\n",
       "      <td>0</td>\n",
       "    </tr>\n",
       "    <tr>\n",
       "      <th>59</th>\n",
       "      <td>jadi ppkm sama psbb itu sama saja</td>\n",
       "      <td>1</td>\n",
       "    </tr>\n",
       "    <tr>\n",
       "      <th>117</th>\n",
       "      <td>pagi pagi di telepon suruh reschedule flight p...</td>\n",
       "      <td>1</td>\n",
       "    </tr>\n",
       "  </tbody>\n",
       "</table>\n",
       "</div>"
      ],
      "text/plain": [
       "                                                  text  prediction\n",
       "111  karena wisata belanja bukan ritual ibadah jika...           0\n",
       "180                                          hari ppkm           1\n",
       "193                              ppkm membunuh ekonomi           0\n",
       "15   masih dong kan proyek strategis nasional di pp...           2\n",
       "137  setuju banget pak adhie yang kita tidak punya ...           0\n",
       "158  meningkatnya angka covid membuat kebijakan ppk...           2\n",
       "78   ppkm darurat mensyaratkan setiap penumpang pes...           1\n",
       "31   memang siy ppkm darurat ini menghambat pariwis...           0\n",
       "26   stabesok iya ppkm darurat ala jokowi padahal a...           0\n",
       "29   masuk ppkm kota aku sedih banget tapi semoga d...           2\n",
       "133  sudahlah pak urus saja ini ppkm jangan sampai ...           0\n",
       "70   ppkm namanya lebih ketat begitu deh karena kas...           0\n",
       "73   jika terjadi peningkatan jumlah kasus gelomban...           0\n",
       "119  ppkm darurat menghambat aku mencari duit buat ...           0\n",
       "174  admin kereta jadwal terakhir selama ppkm ini d...           1\n",
       "136  hai apakah sudah ada persyaratan terbaru karen...           1\n",
       "151                                ppkm ini membunuhku           0\n",
       "28                       baru kali ini saya benci ppkm           0\n",
       "59                   jadi ppkm sama psbb itu sama saja           1\n",
       "117  pagi pagi di telepon suruh reschedule flight p...           1"
      ]
     },
     "execution_count": 183,
     "metadata": {},
     "output_type": "execute_result"
    }
   ],
   "source": [
    "df_test['prediction'] = prediction\n",
    "df_test[['text','prediction']].sample(20)"
   ]
  },
  {
   "cell_type": "code",
   "execution_count": 184,
   "id": "3bc4ff23",
   "metadata": {},
   "outputs": [],
   "source": [
    "df_test.to_csv('IndoBERTTweet_Predict.csv', index=False)"
   ]
  },
  {
   "cell_type": "code",
   "execution_count": null,
   "id": "c9108bac",
   "metadata": {},
   "outputs": [],
   "source": []
  }
 ],
 "metadata": {
  "kernelspec": {
   "display_name": "Python 3 (ipykernel)",
   "language": "python",
   "name": "python3"
  },
  "language_info": {
   "codemirror_mode": {
    "name": "ipython",
    "version": 3
   },
   "file_extension": ".py",
   "mimetype": "text/x-python",
   "name": "python",
   "nbconvert_exporter": "python",
   "pygments_lexer": "ipython3",
   "version": "3.8.12"
  }
 },
 "nbformat": 4,
 "nbformat_minor": 5
}
